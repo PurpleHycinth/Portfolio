{
 "cells": [
  {
   "cell_type": "markdown",
   "id": "175c466e",
   "metadata": {},
   "source": [
    "## Peer Teaching | Introduction to Python - Class 1\n",
    "\n",
    "- [x] **Python Basics**\n",
    "  - [x] Data Types\n",
    "  - [x] Type Casting\n",
    "  - [x] Concatenation\n",
    "  - [x] Operators\n",
    "  - [x] Boolean Values\n",
    "  - [x] Print Statements\n",
    "  - [x] User-Defined Functions\n",
    "  - [x] Jupyter Markdown Basics\n",
    "- [ ] **Exercise**: Create a user greeting function\n",
    "\n",
    "\n",
    "**Reference for Operators:**\n",
    "[Python Operators](https://www.w3schools.com/python/python_operators.asp)"
   ]
  },
  {
   "cell_type": "markdown",
   "id": "6d16520f",
   "metadata": {},
   "source": [
    "## Arithmetic Operators"
   ]
  },
  {
   "cell_type": "code",
   "execution_count": 3,
   "id": "2f2197f3",
   "metadata": {},
   "outputs": [
    {
     "name": "stdout",
     "output_type": "stream",
     "text": [
      "1\n"
     ]
    }
   ],
   "source": [
    "a = 15\n",
    "b = 7\n",
    "result = a % b\n",
    "print(result)"
   ]
  },
  {
   "cell_type": "code",
   "execution_count": 4,
   "id": "b29e05f6",
   "metadata": {},
   "outputs": [
    {
     "name": "stdout",
     "output_type": "stream",
     "text": [
      "2\n"
     ]
    }
   ],
   "source": [
    "floor_result = a // b\n",
    "print(floor_result)"
   ]
  },
  {
   "cell_type": "markdown",
   "id": "27b76b3a",
   "metadata": {},
   "source": [
    "### Bitwise Right Shift:"
   ]
  },
  {
   "cell_type": "code",
   "execution_count": 8,
   "id": "0c7ce135",
   "metadata": {},
   "outputs": [
    {
     "name": "stdout",
     "output_type": "stream",
     "text": [
      "0b101\n"
     ]
    }
   ],
   "source": [
    "x = 5 \n",
    "print(bin(x))"
   ]
  },
  {
   "cell_type": "code",
   "execution_count": 9,
   "id": "e10c4d35",
   "metadata": {},
   "outputs": [
    {
     "name": "stdout",
     "output_type": "stream",
     "text": [
      "Left Shift:  0b101000\n",
      "Result:  40\n"
     ]
    }
   ],
   "source": [
    "x <<= 3\n",
    "print(\"Left Shift: \",bin(x)) # 5* 2^3\n",
    "\n",
    "# Moves 3 bits to the left\n",
    "print(\"Result: \",x)"
   ]
  },
  {
   "cell_type": "markdown",
   "id": "4da03847",
   "metadata": {},
   "source": [
    "### Bitwise Right Shift:"
   ]
  },
  {
   "cell_type": "code",
   "execution_count": 7,
   "id": "5595af49",
   "metadata": {},
   "outputs": [
    {
     "name": "stdout",
     "output_type": "stream",
     "text": [
      "Right Shift:  0b0\n",
      "Result:  0\n"
     ]
    }
   ],
   "source": [
    "x = 5\n",
    "x >>= 3\n",
    "print(\"Right Shift: \",bin(x))  # 5/2^3\n",
    "\n",
    "# Moves 3 bits to the right\n",
    "print(\"Result: \",x) "
   ]
  },
  {
   "cell_type": "markdown",
   "id": "7e79f48c",
   "metadata": {},
   "source": [
    "## Comparison and Logical Operators"
   ]
  },
  {
   "cell_type": "code",
   "execution_count": 3,
   "id": "dfa21d61",
   "metadata": {},
   "outputs": [
    {
     "name": "stdout",
     "output_type": "stream",
     "text": [
      "Enter 1st number:15\n",
      "Enter 2nd number:4\n",
      "*****************************************************************\n",
      "USING COMPARISON OPERATORS:\n",
      "Using == operator to \n",
      "Are the two values equal? False\n",
      "-----------------------------------------------------------------\n",
      "Using != operator to \n",
      "Are the two values unequal? True\n",
      "-----------------------------------------------------------------\n",
      "Using <= operator to \n",
      "Is 15.0 <= 4.0 ? False\n",
      "-----------------------------------------------------------------\n",
      "\n",
      "USING LOGICAL OPERATORS:\n",
      "Using the or operator:\n",
      "Checking if 15.0 is divisible by 5 or by 11: True\n",
      "\n",
      "Using the or operator:\n",
      "Checking if 4.0 is between 0 and 100: True\n",
      "\n",
      "Using the not operator:\n",
      "Checking if 4.0 is an odd number greater than 0 : False\n"
     ]
    }
   ],
   "source": [
    "# Taking Two Float numbers as input from the user\n",
    "x=float(input(\"Enter 1st number:\"))\n",
    "y=float(input(\"Enter 2nd number:\"))\n",
    "print(\"*\"*65)\n",
    "\n",
    "print(\"USING COMPARISON OPERATORS:\")\n",
    "# Using comparison operator ==\n",
    "print(\"Using == operator to \")\n",
    "print(\"Are the two values equal?\",x==y)\n",
    "\n",
    "# Using comparison operator !=\n",
    "print(\"-\"*65)\n",
    "print(\"Using != operator to \")\n",
    "print(\"Are the two values unequal?\",x!=y)\n",
    "\n",
    "# Using comparison operator <=\n",
    "print(\"-\"*65)\n",
    "print(\"Using <= operator to \")\n",
    "print(\"Is\",x,\"<=\",y,'?',x<=y)\n",
    "print(\"-\"*65)\n",
    "\n",
    "print(\"\\nUSING LOGICAL OPERATORS:\")\n",
    "# Using logical operator or\n",
    "cond1 = x%5==0 or x==0\n",
    "print(\"Using the or operator:\")\n",
    "print(\"Checking if\",x,\"is divisible by 5 or by 11:\",cond1)\n",
    "\n",
    "cond2=y>0 and y<100\n",
    "print(\"\\nUsing the or operator:\")\n",
    "print(\"Checking if\",y, \"is between 0 and 100:\",cond1)\n",
    "\n",
    "cond3=not(y%2==0 or y<=0)\n",
    "print(\"\\nUsing the not operator:\")\n",
    "print(\"Checking if\",y, \"is an odd number greater than 0 :\",cond3)"
   ]
  },
  {
   "cell_type": "markdown",
   "id": "ab635c0d",
   "metadata": {},
   "source": [
    "Adding two spaces at the end of a line  \n",
    "creates a line break"
   ]
  },
  {
   "cell_type": "markdown",
   "id": "e27e3509",
   "metadata": {},
   "source": [
    "## <u> DOCUMENTATION</u>\n",
    "### 1. Exploring Documentation features in Markdown\n",
    "# Titles using a single hash\n",
    "## Headings\n",
    "### Subheadings\n",
    "#### Subheading 2\n",
    "- *Text can be Italicized using asterisks at the start and the end of the text*  \n",
    "- **BOLD Text using 2 asterisks surrounding the text**  \n",
    "- ***BOLD and ITALICS Text by surrounding the text with 3 asterisks***  \n",
    "- `To highlight text, use back single quotation mark`  \n",
    "- ~Strikethrough using tilde~\n",
    "> Indenting Text using Greater Than sign(>)\n",
    "You can add Bullet points using a hyphen (-) followed by the text\n",
    "- Point 1\n",
    "- Point 2\n",
    "  -Subpoint 1\n",
    "- Point 3\n",
    "You can also create a numbered list using 1. followed by a space and the points\n",
    "### Objectives:\n",
    "1. **Topic A:**\n",
    "    1. **Subtopic 1:**\n",
    "        1. Sub-subtopic a\n",
    "        2. Sub-subtopic b\n",
    "            - Sub-subtopic c\n",
    "1. **Topic B:**\n",
    "1. **Topic C:**\n",
    "\n",
    "- [x] Some task\n",
    "- [ ] Some more task\n",
    "\n",
    "For a line break, use < br > without spaces and use < hr > without spaces to add a horizontal line\n",
    "<hr>"
   ]
  },
  {
   "cell_type": "markdown",
   "id": "ec252171",
   "metadata": {},
   "source": [
    "### Indentation\n",
    "> Hello world"
   ]
  },
  {
   "cell_type": "markdown",
   "id": "975fb7f0",
   "metadata": {},
   "source": [
    "Hello <br>\n",
    "World\n",
    "<hr>\n",
    "World"
   ]
  },
  {
   "cell_type": "markdown",
   "id": "dd7e3a24",
   "metadata": {},
   "source": [
    "~Strikethrough~"
   ]
  },
  {
   "cell_type": "markdown",
   "id": "5f070ed3",
   "metadata": {},
   "source": [
    "## Mathematical Expressions with LaTex\n",
    "### 1. Superscripts and Subscripts\n",
    "Use `^` for superscripts and `_` for subscripts:\n",
    "$f(x) = x^2 + 3 $\n",
    "\n",
    "\n",
    "### 2. Greek Symbols:  \n",
    "Use backslashes followed by the name to insert Greek letters:\n",
    "$\\alpha$, $\\beta$, $\\gamma$, $\\Delta$, $\\Theta$, $\\lambda$\n",
    "\n",
    "### 3. Fractions\n",
    "Use `\\frac{numerator}{denominator}` for fractions:  \n",
    "$\\frac{a}{b}$\n",
    "\n",
    "### 4. Square Root\n",
    "Use `\\sqrt{}` for square root:  \n",
    "$\\sqrt{2}$\n",
    "\n",
    "### 5. Summation and Integration\n",
    "Use `\\sum` and `\\int` for summation and integration:  \n",
    "1. $\\sum_{i=1}^{n} i$,  \n",
    "1. $\\int_{a}^{b} x^2 ,dx$\n",
    "\n",
    "### 6. Matrices\n",
    "Use `matrix` environment for matrices:  \n",
    "$\\begin{bmatrix} 1 & 2 \\\\ 3 & 4 \\end{bmatrix}$\n",
    "\n",
    "\n",
    "### 7. Arrows\n",
    "Use `\\rightarrow`, `\\leftarrow`, `\\Rightarrow`, `\\Leftarrow` for arrows:\n",
    "$x \\rightarrow y$, $A \\Rightarrow B$\n",
    "\n",
    "\n",
    "### 8. Limits\n",
    "Use `\\lim` for limits:\n",
    "$\\lim_{x \\to \\infty} f(x)$"
   ]
  },
  {
   "cell_type": "markdown",
   "id": "9cd499ff",
   "metadata": {},
   "source": [
    "****"
   ]
  },
  {
   "cell_type": "markdown",
   "id": "34efedcf",
   "metadata": {},
   "source": [
    "## Tables\n",
    "| Header 1 | Header 2 | Header 3 |\n",
    "| ---------| ---------| ---------|\n",
    "| Row 1, Col 1 | Row 1, Col 2 | Row 1, Col 3 |\n",
    "| Row 2, Col 1 | Row 2, Col 2 | Row 2, Col 3 |\n",
    "\n",
    "\n",
    "## Images/GIFs: \n",
    "You can also include various forms of graphics hosted on the web in the Jupyter Notebook using the `Full URL` of the image and an `Alternative text` in case the image fails to load\n",
    "![Alt text](https://i.chzbgr.com/full/9316128512/h5167E562/dwight-different-wigs-the-office-memes)\n",
    "\n",
    "## Code\n",
    "`inline code`\n",
    "```python\n",
    "# code block\n",
    "print(\"Hello, Jupyter!\")\n"
   ]
  },
  {
   "cell_type": "markdown",
   "id": "b07cab62",
   "metadata": {},
   "source": [
    "### User-Defined Functions: Optional And Keyword Arguments:\n",
    "An optional argument is a parameter in a function that has a default value, allowing it to be omitted when calling the function."
   ]
  },
  {
   "cell_type": "code",
   "execution_count": 5,
   "id": "046037fd",
   "metadata": {},
   "outputs": [],
   "source": [
    "def display(name = \"Krish\"):\n",
    "    print(\"Hello\",name)"
   ]
  },
  {
   "cell_type": "code",
   "execution_count": 6,
   "id": "9c94b0dd",
   "metadata": {},
   "outputs": [
    {
     "name": "stdout",
     "output_type": "stream",
     "text": [
      "Hello Krish\n"
     ]
    }
   ],
   "source": [
    "display()"
   ]
  },
  {
   "cell_type": "markdown",
   "id": "76c2ce9c",
   "metadata": {},
   "source": [
    "In this case, name is an optional argument because it has a default value of \"Krish\". If you don't provide a value when calling the function, it will use \"Krish\" by default."
   ]
  },
  {
   "cell_type": "code",
   "execution_count": 7,
   "id": "0a63fc8b",
   "metadata": {},
   "outputs": [
    {
     "name": "stdout",
     "output_type": "stream",
     "text": [
      "Hello Reiyonna\n"
     ]
    }
   ],
   "source": [
    "my_name = \"Reiyonna\"\n",
    "display(my_name) # overrides the default value"
   ]
  },
  {
   "cell_type": "code",
   "execution_count": 1,
   "id": "911c1b0b",
   "metadata": {},
   "outputs": [
    {
     "name": "stdout",
     "output_type": "stream",
     "text": [
      "*****************************************************************\n"
     ]
    }
   ],
   "source": [
    "print(\"*\"*65)"
   ]
  },
  {
   "cell_type": "code",
   "execution_count": null,
   "id": "96c876bd",
   "metadata": {},
   "outputs": [],
   "source": []
  }
 ],
 "metadata": {
  "kernelspec": {
   "display_name": "Python 3",
   "language": "python",
   "name": "python3"
  },
  "language_info": {
   "codemirror_mode": {
    "name": "ipython",
    "version": 3
   },
   "file_extension": ".py",
   "mimetype": "text/x-python",
   "name": "python",
   "nbconvert_exporter": "python",
   "pygments_lexer": "ipython3",
   "version": "3.8.8"
  }
 },
 "nbformat": 4,
 "nbformat_minor": 5
}
