{
 "cells": [
  {
   "cell_type": "markdown",
   "id": "316c1660",
   "metadata": {},
   "source": [
    "# Peer Teaching | Python Data Structures - Class 2\n",
    "\n",
    "- [x] **Data Structures**\n",
    "  - [x] Lists/Arrays\n",
    "  - [x] Dictionaries\n",
    "  - [x] Tuples\n",
    "  - [x] Sets\n",
    "- **Exercises:**\n",
    "    - [ ] Exploring different functions for each data structure\n",
    "    - [ ] Explore and compare numpy with traditional arrays.\n",
    "\n",
    "**Reference for Python Data Structures:**\n",
    "[Python Data Structures](https://www.programiz.com/python-programming/list)"
   ]
  },
  {
   "cell_type": "code",
   "execution_count": 3,
   "metadata": {},
   "outputs": [
    {
     "name": "stdout",
     "output_type": "stream",
     "text": [
      "hello world\n",
      "helloworld\n"
     ]
    }
   ],
   "source": [
    "a = \"hello\"\n",
    "b = \"world\"\n",
    "\n",
    "print(a, b)\n",
    "print(a + b)"
   ]
  },
  {
   "cell_type": "code",
   "execution_count": 6,
   "metadata": {},
   "outputs": [
    {
     "data": {
      "text/plain": [
       "-1"
      ]
     },
     "execution_count": 6,
     "metadata": {},
     "output_type": "execute_result"
    }
   ],
   "source": [
    "c = 6\n",
    "d = 7\n",
    "\n",
    "# c+d\n",
    "c-d\n",
    "# c*d\n",
    "# c/d"
   ]
  },
  {
   "cell_type": "code",
   "execution_count": 17,
   "metadata": {},
   "outputs": [
    {
     "name": "stdout",
     "output_type": "stream",
     "text": [
      "6\n"
     ]
    }
   ],
   "source": [
    "e = 5\n",
    "f = True\n",
    "\n",
    "print(e + f)"
   ]
  },
  {
   "cell_type": "code",
   "execution_count": 18,
   "metadata": {},
   "outputs": [
    {
     "name": "stdout",
     "output_type": "stream",
     "text": [
      "18.5\n"
     ]
    }
   ],
   "source": [
    "num1 = 10\n",
    "num2 = 8.5\n",
    "\n",
    "print(num1 + num2)"
   ]
  },
  {
   "cell_type": "code",
   "execution_count": 20,
   "metadata": {},
   "outputs": [
    {
     "data": {
      "text/plain": [
       "bool"
      ]
     },
     "execution_count": 20,
     "metadata": {},
     "output_type": "execute_result"
    }
   ],
   "source": [
    "type(f)"
   ]
  },
  {
   "cell_type": "markdown",
   "id": "72c9e537",
   "metadata": {},
   "source": [
    "![DataStructures](https://miro.medium.com/v2/resize:fit:746/1*VdLFpmSutr5BSbEeAtpmrQ.jpeg)"
   ]
  },
  {
   "attachments": {
    "DataStructures_Table.png": {
     "image/png": "[encoded data removed]"
    }
   },
   "cell_type": "markdown",
   "id": "088cbe64",
   "metadata": {},
   "source": [
    "![DataStructures_Table.png](attachment:DataStructures_Table.png)"
   ]
  },
  {
   "cell_type": "markdown",
   "id": "b1c69e96",
   "metadata": {},
   "source": [
    "### Welcome Function"
   ]
  },
  {
   "cell_type": "code",
   "execution_count": 1,
   "id": "6039605e",
   "metadata": {},
   "outputs": [],
   "source": [
    "def greet(program): \n",
    "    # Welcome Prompt before the execution of the program \n",
    "    print(\"*\"*65) \n",
    "    print(\"Welcome to {}!\".center(50).format(program)) \n",
    "    print(\"*\"*65) "
   ]
  },
  {
   "cell_type": "markdown",
   "id": "8adedde8",
   "metadata": {},
   "source": [
    "### Thank You Function"
   ]
  },
  {
   "cell_type": "code",
   "execution_count": 2,
   "id": "a677aba5",
   "metadata": {},
   "outputs": [],
   "source": [
    "def salut(): \n",
    "    # \"Thank You\" prompt after the execution of the program \n",
    "    print(\"*\"*65) \n",
    "    print(\"Thank you for using the program\".center(50)) \n",
    "    print(\"*\"*65) "
   ]
  },
  {
   "cell_type": "markdown",
   "id": "b731706c",
   "metadata": {},
   "source": [
    "## Lists in Python\n",
    "- Ordered, changeable, and allow duplicate values.\n",
    "- Need not be homogeneous always which makes it the most powerful tool in Python\n",
    "- Can be created by just placing the sequence inside the square brackets[]"
   ]
  },
  {
   "cell_type": "markdown",
   "id": "45a2114c",
   "metadata": {},
   "source": [
    "### Defining a list"
   ]
  },
  {
   "cell_type": "code",
   "execution_count": 3,
   "id": "6ecc1162",
   "metadata": {},
   "outputs": [
    {
     "data": {
      "text/plain": [
       "[1, 21, 'Hello', (3, 4, 2)]"
      ]
     },
     "execution_count": 3,
     "metadata": {},
     "output_type": "execute_result"
    }
   ],
   "source": [
    "list1 = [1, 21, \"Hello\", (3, 4, 2)]\n",
    "list1"
   ]
  },
  {
   "cell_type": "markdown",
   "id": "220c1823",
   "metadata": {},
   "source": [
    "`len()`: This function tells how many items are there in the list"
   ]
  },
  {
   "cell_type": "code",
   "execution_count": 4,
   "id": "c9819be8",
   "metadata": {},
   "outputs": [
    {
     "name": "stdout",
     "output_type": "stream",
     "text": [
      "Length of list: 4\n"
     ]
    }
   ],
   "source": [
    "print('Length of list:',len(list1))"
   ]
  },
  {
   "cell_type": "markdown",
   "id": "80721018",
   "metadata": {},
   "source": [
    "### List Built-in Functions"
   ]
  },
  {
   "cell_type": "markdown",
   "id": "045288d8",
   "metadata": {},
   "source": [
    "These methods are used to add items to the list\n",
    "- `append ()` this method will add the item to the end of the list.\n",
    "- `extend()` this method adds all the values at the end of the list"
   ]
  },
  {
   "cell_type": "code",
   "execution_count": 5,
   "id": "54ec1433",
   "metadata": {},
   "outputs": [
    {
     "data": {
      "text/plain": [
       "[1, 21, 'Hello', (3, 4, 2), 'World']"
      ]
     },
     "execution_count": 5,
     "metadata": {},
     "output_type": "execute_result"
    }
   ],
   "source": [
    "# append() adds exactly one item to the end of the list and returns no value\n",
    "list1.append(\"World\")\n",
    "list1"
   ]
  },
  {
   "cell_type": "code",
   "execution_count": 6,
   "id": "70c3230d",
   "metadata": {},
   "outputs": [
    {
     "data": {
      "text/plain": [
       "[1, 21, 'Hello', (3, 4, 2), 'World', 4, 21, 6]"
      ]
     },
     "execution_count": 6,
     "metadata": {},
     "output_type": "execute_result"
    }
   ],
   "source": [
    "# Using extend() to add multiple elements to the list\n",
    "list1.extend([4, 21, 6])\n",
    "list1"
   ]
  },
  {
   "cell_type": "markdown",
   "id": "cc02e57a",
   "metadata": {},
   "source": [
    "**Using `count()` to count the number of the specified element**"
   ]
  },
  {
   "cell_type": "code",
   "execution_count": 7,
   "id": "6662d7f2",
   "metadata": {},
   "outputs": [
    {
     "name": "stdout",
     "output_type": "stream",
     "text": [
      "Count of 21:  2\n"
     ]
    }
   ],
   "source": [
    "print(\"Count of 21: \", list1.count(21))"
   ]
  },
  {
   "cell_type": "markdown",
   "id": "a834de19",
   "metadata": {},
   "source": [
    "**Other Methods**  \n",
    "- `insert()` method is used to add the item to the given position in the list\n",
    "- `index()` returns the index of the first matched item from the list\n",
    "- `copy()` creates a copy of the list\n",
    "- `reverse()` reverses the order of the list"
   ]
  },
  {
   "cell_type": "code",
   "execution_count": 8,
   "id": "47ab625b",
   "metadata": {},
   "outputs": [
    {
     "name": "stdout",
     "output_type": "stream",
     "text": [
      "Insert 3 into the list at index position 2:\n",
      "[1, 21, 3, 'Hello', (3, 4, 2), 'World', 4, 21, 6]\n"
     ]
    }
   ],
   "source": [
    "# insert() inserts an item at the defined index of the list and returns no value\n",
    "print(\"Insert 3 into the list at index position 2:\")\n",
    "list1.insert(2, 3)\n",
    "print(list1)"
   ]
  },
  {
   "cell_type": "code",
   "execution_count": 9,
   "id": "4b45ae27",
   "metadata": {
    "scrolled": true
   },
   "outputs": [
    {
     "name": "stdout",
     "output_type": "stream",
     "text": [
      "Index position of 'Hello': 3\n"
     ]
    }
   ],
   "source": [
    "# index() returns the index of the first matched item from the list\n",
    "index_pos = list1.index(\"Hello\")\n",
    "print(\"Index position of 'Hello':\", index_pos)"
   ]
  },
  {
   "cell_type": "code",
   "execution_count": 10,
   "id": "59182f0a",
   "metadata": {},
   "outputs": [
    {
     "name": "stdout",
     "output_type": "stream",
     "text": [
      "Using copy()\n",
      "The new list:  [1, 21, 3, 'Hello', (3, 4, 2), 'World', 4, 21, 6]\n"
     ]
    }
   ],
   "source": [
    "# copy() creates a copy of the list\n",
    "new_list = list1.copy()\n",
    "print(\"The new list: \", new_list)"
   ]
  },
  {
   "cell_type": "code",
   "execution_count": 11,
   "id": "77398618",
   "metadata": {},
   "outputs": [
    {
     "name": "stdout",
     "output_type": "stream",
     "text": [
      "Using reverse() to reverse the list sequence:\n",
      "[6, 21, 4, 'World', (3, 4, 2), 'Hello', 3, 21, 1]\n"
     ]
    }
   ],
   "source": [
    "# reverse() reverses the order of the list\n",
    "list1.reverse()\n",
    "print(list1)"
   ]
  },
  {
   "cell_type": "markdown",
   "id": "019d75e1",
   "metadata": {},
   "source": [
    "#### Methods that are used to delete items from the list\n",
    "- `clear()` method will remove all the items in the list at once\n",
    "- `pop()` method removes the element at the given position"
   ]
  },
  {
   "cell_type": "code",
   "execution_count": 12,
   "id": "a7011d15",
   "metadata": {},
   "outputs": [
    {
     "name": "stdout",
     "output_type": "stream",
     "text": [
      "Using pop()\n",
      "[6, 4, 'World', (3, 4, 2), 'Hello', 3, 21, 1]\n",
      "Removed Element: 21\n"
     ]
    }
   ],
   "source": [
    "# pop() removes an element at the given index and returns it\n",
    "# Default index is -1\n",
    "print(\"Using pop()\")\n",
    "removed_element = list1.pop(1)\n",
    "print(list1)\n",
    "print(\"Removed Element:\", removed_element)"
   ]
  },
  {
   "cell_type": "code",
   "execution_count": 13,
   "id": "4a0b0b68",
   "metadata": {
    "scrolled": true
   },
   "outputs": [
    {
     "name": "stdout",
     "output_type": "stream",
     "text": [
      "Removing element 21 from the list:\n",
      "[6, 4, 'World', (3, 4, 2), 'Hello', 3, 1]\n"
     ]
    }
   ],
   "source": [
    "print(\"Removing element 21 from the list:\")\n",
    "list1.remove(21)\n",
    "print(list1)"
   ]
  },
  {
   "cell_type": "code",
   "execution_count": 14,
   "id": "9c7e198e",
   "metadata": {},
   "outputs": [
    {
     "name": "stdout",
     "output_type": "stream",
     "text": [
      "Using clear()\n",
      "List is Empty: []\n"
     ]
    }
   ],
   "source": [
    "print(\"Using clear()\")\n",
    "list1.clear()\n",
    "print(\"List is Empty:\", list1)"
   ]
  },
  {
   "cell_type": "markdown",
   "id": "9c8c9641",
   "metadata": {},
   "source": [
    "**Method to Sort the List: `sort()`**"
   ]
  },
  {
   "cell_type": "code",
   "execution_count": 15,
   "id": "9c01a27f",
   "metadata": {},
   "outputs": [
    {
     "name": "stdout",
     "output_type": "stream",
     "text": [
      "Using sort()\n",
      "Unsorted List:  [5, 3, 7, 2, 9]\n"
     ]
    }
   ],
   "source": [
    "# sort() sorts items in a list by default in ascending order\n",
    "list2 = [5, 3, 7, 2, 9]\n",
    "print(\"Unsorted List: \", list2)"
   ]
  },
  {
   "cell_type": "code",
   "execution_count": 16,
   "id": "db5d3868",
   "metadata": {},
   "outputs": [
    {
     "name": "stdout",
     "output_type": "stream",
     "text": [
      "List sorted in Ascending Order:  [2, 3, 5, 7, 9]\n",
      "List sorted in Descending Order:  [9, 7, 5, 3, 2]\n"
     ]
    }
   ],
   "source": [
    "list2.sort()\n",
    "print(\"List sorted in Ascending Order: \", list2)\n",
    "\n",
    "list2.sort(reverse=True)\n",
    "print(\"List sorted in Descending Order: \", list2)"
   ]
  },
  {
   "cell_type": "markdown",
   "id": "a4da65f9",
   "metadata": {},
   "source": [
    "## Sets in Python:\n",
    "\n",
    "- Unordered and unindexed collection of unique elements.\n",
    "- Created using curly braces {} or the set() constructor."
   ]
  },
  {
   "cell_type": "markdown",
   "id": "601d864f",
   "metadata": {},
   "source": [
    "**Defining a Set**"
   ]
  },
  {
   "cell_type": "code",
   "execution_count": 17,
   "id": "30af5db5",
   "metadata": {},
   "outputs": [
    {
     "name": "stdout",
     "output_type": "stream",
     "text": [
      "{96, 65, 3, 7, 45, 23, 26}\n"
     ]
    }
   ],
   "source": [
    "set1 = {65, 23, 96, 26, 45, 7, 3}\n",
    "print(set1)"
   ]
  },
  {
   "cell_type": "code",
   "execution_count": 18,
   "id": "59b0a907",
   "metadata": {},
   "outputs": [
    {
     "name": "stdout",
     "output_type": "stream",
     "text": [
      "*****************************************************************\n",
      "                  Welcome to BUILT-IN SET METHODS!                  \n",
      "*****************************************************************\n",
      "The original Set 1:  {96, 65, 3, 7, 45, 23, 26}\n",
      "-----------------------------------------------------------------\n",
      "\n",
      "Using add() to add element 25\n",
      "{96, 65, 3, 7, 45, 23, 25, 26}\n",
      "-----------------------------------------------------------------\n",
      "\n",
      "Using copy():\n",
      "New set copy: {96, 65, 3, 7, 45, 23, 25, 26}\n",
      "-----------------------------------------------------------------\n",
      "\n",
      "Set 2: {96, 65, 3, 36, 76, 46, 23}\n",
      "Set1 - Set2: {25, 26, 45, 7}\n",
      "-----------------------------------------------------------------\n",
      "\n",
      "Using intersection():\n",
      "{96, 65, 3, 23}\n",
      "-----------------------------------------------------------------\n",
      "\n",
      "Using difference_update() to update Set 1 to Set 1 - Set 2:\n",
      "Set 1:  {7, 45, 25, 26}\n",
      "-----------------------------------------------------------------\n",
      "\n",
      "Using intersection_update():\n",
      "{96, 65, 3, 23}\n",
      "-----------------------------------------------------------------\n",
      "\n",
      "Using discard() on Set 1: \n",
      "Set after discarding 45:  {96, 65, 3, 23}\n",
      "-----------------------------------------------------------------\n",
      "\n",
      "Are Set1 and Set2 disjoint? True\n",
      "-----------------------------------------------------------------\n",
      "\n",
      "Is Set1 a subset of Set2? False\n",
      "-----------------------------------------------------------------\n",
      "\n",
      "Set2: {96, 65, 3, 36, 76, 46, 23}\n",
      "Element removed:  96\n",
      "Set2 after using pop(): {65, 3, 36, 76, 46, 23}\n",
      "-----------------------------------------------------------------\n",
      "\n",
      "Symmetric difference of Set1 and Set2: {65, 3, 7, 76, 23, 25, 26, 36, 46}\n",
      "-----------------------------------------------------------------\n",
      "\n",
      "Set after clear():  set()\n",
      "*****************************************************************\n",
      "         Thank you for using the program          \n",
      "*****************************************************************\n"
     ]
    }
   ],
   "source": [
    "greet(\"BUILT-IN SET METHODS\")\n",
    "set1 = {65,23,96,26,45,7,3} \n",
    "print(\"The original Set 1: \",set1) \n",
    "  \n",
    "# add() adds an element to the set \n",
    "print(\"-\"*65) \n",
    "print(\"\\nUsing add() to add element 25\") \n",
    "set1.add(25) \n",
    "print(set1)  \n",
    "  \n",
    "# copy() returns a copy of the set \n",
    "print(\"-\"*65) \n",
    "print(\"\\nUsing copy():\") \n",
    "new_set=set1.copy() \n",
    "print(\"New set copy:\",new_set) \n",
    "  \n",
    "# difference() returns the set difference \n",
    "print(\"-\"*65) \n",
    "set2={23,46,76,36,3,65,96} \n",
    "print(\"\\nSet 2:\",set2) \n",
    "print(\"Set1 - Set2:\",set1.difference(set2)) \n",
    "\n",
    "\n",
    "# intersection() returns a set with common elements of all sets \n",
    "print(\"-\"*65) \n",
    "print(\"\\nUsing intersection():\") \n",
    "print(set1.intersection(set2)) \n",
    "\n",
    "\n",
    "# difference_update() updates the first set with the set difference \n",
    "print(\"-\"*65) \n",
    "print(\"\\nUsing difference_update() to update Set 1 to Set 1 - Set 2:\") \n",
    "set1.difference_update(set2) \n",
    "print(\"Set 1: \",set1) \n",
    "\n",
    "\n",
    "# intersection_update() updates the first set with the set intersection \n",
    "print(\"-\"*65) \n",
    "print(\"\\nUsing intersection_update():\") \n",
    "new_set.intersection_update(set2) \n",
    "print(new_set) \n",
    "\n",
    "\n",
    "# discard() removes the specified element from the set \n",
    "print(\"-\"*65) \n",
    "print(\"\\nUsing discard() on Set 1: \") \n",
    "set1.discard(45) \n",
    "print(\"Set after discarding 45: \",new_set) \n",
    "\n",
    "\n",
    "# isdisjoint() checks if the sets are disjoint \n",
    "print(\"-\"*65) \n",
    "print(\"\\nAre Set1 and Set2 disjoint?\",set1.isdisjoint(set2)) \n",
    "\n",
    "\n",
    "# issubset() checks if the sets are subsets \n",
    "print(\"-\"*65) \n",
    "print(\"\\nIs Set1 a subset of Set2?\",set1.issubset(set2)) \n",
    "\n",
    "\n",
    "# pop() removes an arbitary element from the set and returns the element \n",
    "print(\"-\"*65) \n",
    "print(\"\\nSet2:\",set2) \n",
    "print(\"Element removed: \",set2.pop()) \n",
    "print(\"Set2 after using pop():\",set2) \n",
    "\n",
    "\n",
    "# symmetric_difference() returns the symmetric difference of two sets \n",
    "print(\"-\"*65) \n",
    "print(\"\\nSymmetric difference of Set1 and Set2:\",set1.symmetric_difference(set2))\n",
    "\n",
    "\n",
    "# clear() removes all elements of the set \n",
    "print(\"-\"*65) \n",
    "new_set.clear() \n",
    "print(\"\\nSet after clear(): \",new_set) \n",
    "\n",
    "salut()\n"
   ]
  },
  {
   "cell_type": "markdown",
   "id": "bb00a6d4",
   "metadata": {},
   "source": [
    "## Tuples in Python"
   ]
  },
  {
   "cell_type": "code",
   "execution_count": 38,
   "id": "0992b929",
   "metadata": {},
   "outputs": [
    {
     "name": "stdout",
     "output_type": "stream",
     "text": [
      "*****************************************************************\n",
      "                  Welcome to BUILT-IN TUPLE METHODS!                  \n",
      "*****************************************************************\n",
      "The Tuple is: (1, 2, 4, 7, 6, 4, 7, 3)\n",
      "Count of 4 in the tuple: 2\n",
      "Maximum value the tuple: 7\n",
      "*****************************************************************\n",
      "         Thank you for using the program          \n",
      "*****************************************************************\n"
     ]
    }
   ],
   "source": [
    "greet('BUILT-IN TUPLE METHODS')\n",
    "tuple1=(1,2,4,7,6,4,7,3) \n",
    "print(\"The Tuple is:\",tuple1) \n",
    "\n",
    "# Returns the count of the element passed as argument \n",
    "print(\"Count of 4 in the tuple:\",tuple1.count(4)) \n",
    "print(\"Maximum value the tuple:\",max(tuple1)) \n",
    "\n",
    "# Returns the index of the first occurrence of the element passed as argument print(\"Index position of 7:\",tuple1.index(7)) \n",
    "salut()"
   ]
  },
  {
   "cell_type": "code",
   "execution_count": 2,
   "id": "9d96d3d1",
   "metadata": {},
   "outputs": [
    {
     "data": {
      "text/plain": [
       "[1, 2, 'Reiyonna', 3]"
      ]
     },
     "execution_count": 2,
     "metadata": {},
     "output_type": "execute_result"
    }
   ],
   "source": [
    "list1 = [1,2,\"Hello\",3]\n",
    "list1[2] = \"Reiyonna\"\n",
    "list1"
   ]
  },
  {
   "cell_type": "code",
   "execution_count": 4,
   "id": "f228160f",
   "metadata": {},
   "outputs": [
    {
     "data": {
      "text/plain": [
       "(1, 2, 'Hello', 3, 'Bananas', 'Orangutan')"
      ]
     },
     "execution_count": 4,
     "metadata": {},
     "output_type": "execute_result"
    }
   ],
   "source": [
    "tuple1 = (1,2,\"Hello\",3)\n",
    "tuple2 = (\"Bananas\",\"Orangutan\")\n",
    "\n",
    "tuple1 = tuple1+tuple2\n",
    "tuple1"
   ]
  },
  {
   "cell_type": "markdown",
   "id": "a071d4bd",
   "metadata": {},
   "source": [
    "## Dictionaries in Python:\n",
    "\n",
    "- Unordered collection of key-value pairs.\n",
    "- Keys must be unique and immutable (strings, numbers, or tuples).\n",
    "- Values can be of any data type (mutable or immutable).\n"
   ]
  },
  {
   "cell_type": "markdown",
   "id": "3a82ec43",
   "metadata": {},
   "source": [
    "**Defining a Dictionary**"
   ]
  },
  {
   "cell_type": "code",
   "execution_count": 20,
   "id": "62a56ffc",
   "metadata": {},
   "outputs": [],
   "source": [
    "my_dict = {\"name\": \"John\", \"age\": 25, \"city\": \"New York\"}"
   ]
  },
  {
   "cell_type": "markdown",
   "id": "aac8f6e0",
   "metadata": {},
   "source": [
    "**Accessing Values:**"
   ]
  },
  {
   "cell_type": "code",
   "execution_count": 21,
   "id": "c785e7ef",
   "metadata": {},
   "outputs": [
    {
     "name": "stdout",
     "output_type": "stream",
     "text": [
      "John\n"
     ]
    }
   ],
   "source": [
    "print(my_dict[\"name\"]) "
   ]
  },
  {
   "cell_type": "markdown",
   "id": "a11fab9f",
   "metadata": {},
   "source": [
    "**Adding and Modifying Entries:**  \n",
    "Add a new entry:"
   ]
  },
  {
   "cell_type": "code",
   "execution_count": 22,
   "id": "4fde84cb",
   "metadata": {},
   "outputs": [],
   "source": [
    "my_dict[\"gender\"] = \"Male\""
   ]
  },
  {
   "cell_type": "markdown",
   "id": "cd373647",
   "metadata": {},
   "source": [
    "Modify an existing entry:"
   ]
  },
  {
   "cell_type": "code",
   "execution_count": 23,
   "id": "581d5b57",
   "metadata": {},
   "outputs": [],
   "source": [
    "my_dict[\"age\"] = 26"
   ]
  },
  {
   "cell_type": "code",
   "execution_count": 24,
   "id": "cfcb7f74",
   "metadata": {},
   "outputs": [
    {
     "data": {
      "text/plain": [
       "{'name': 'John', 'age': 26, 'city': 'New York', 'gender': 'Male'}"
      ]
     },
     "execution_count": 24,
     "metadata": {},
     "output_type": "execute_result"
    }
   ],
   "source": [
    "my_dict"
   ]
  },
  {
   "cell_type": "markdown",
   "id": "33a8ea07",
   "metadata": {},
   "source": [
    "### Dictionary Methods\n",
    "\n",
    "`get()`: Returns the value for the specified key."
   ]
  },
  {
   "cell_type": "code",
   "execution_count": 25,
   "id": "f138d9b5",
   "metadata": {},
   "outputs": [
    {
     "data": {
      "text/plain": [
       "26"
      ]
     },
     "execution_count": 25,
     "metadata": {},
     "output_type": "execute_result"
    }
   ],
   "source": [
    "age = my_dict.get(\"age\")\n",
    "age"
   ]
  },
  {
   "cell_type": "markdown",
   "id": "2da44bcd",
   "metadata": {},
   "source": [
    "`keys()`: Returns a list of all the keys in the dictionary."
   ]
  },
  {
   "cell_type": "code",
   "execution_count": 26,
   "id": "06575477",
   "metadata": {},
   "outputs": [
    {
     "data": {
      "text/plain": [
       "dict_keys(['name', 'age', 'city', 'gender'])"
      ]
     },
     "execution_count": 26,
     "metadata": {},
     "output_type": "execute_result"
    }
   ],
   "source": [
    "all_keys = my_dict.keys()\n",
    "all_keys"
   ]
  },
  {
   "cell_type": "markdown",
   "id": "26505f0e",
   "metadata": {},
   "source": [
    "`values()`: Returns a list of all the values in the dictionary."
   ]
  },
  {
   "cell_type": "code",
   "execution_count": 27,
   "id": "54b07ff0",
   "metadata": {},
   "outputs": [
    {
     "data": {
      "text/plain": [
       "dict_values(['John', 26, 'New York', 'Male'])"
      ]
     },
     "execution_count": 27,
     "metadata": {},
     "output_type": "execute_result"
    }
   ],
   "source": [
    "all_values = my_dict.values()\n",
    "all_values"
   ]
  },
  {
   "cell_type": "markdown",
   "id": "b2ae2a9d",
   "metadata": {},
   "source": [
    "`items()`: Returns a list of key-value tuples."
   ]
  },
  {
   "cell_type": "code",
   "execution_count": 28,
   "id": "fc198b29",
   "metadata": {},
   "outputs": [
    {
     "data": {
      "text/plain": [
       "dict_items([('name', 'John'), ('age', 26), ('city', 'New York'), ('gender', 'Male')])"
      ]
     },
     "execution_count": 28,
     "metadata": {},
     "output_type": "execute_result"
    }
   ],
   "source": [
    "all_items = my_dict.items()\n",
    "all_items"
   ]
  },
  {
   "cell_type": "markdown",
   "id": "e41fbd00",
   "metadata": {},
   "source": [
    "#### Removing Entries"
   ]
  },
  {
   "cell_type": "markdown",
   "id": "d795528c",
   "metadata": {},
   "source": [
    "`pop()`: Removes the item with the specified key and returns its value."
   ]
  },
  {
   "cell_type": "code",
   "execution_count": 29,
   "id": "b66007bc",
   "metadata": {},
   "outputs": [
    {
     "data": {
      "text/plain": [
       "'New York'"
      ]
     },
     "execution_count": 29,
     "metadata": {},
     "output_type": "execute_result"
    }
   ],
   "source": [
    "removed_value = my_dict.pop(\"city\")\n",
    "removed_value"
   ]
  },
  {
   "cell_type": "code",
   "execution_count": 30,
   "id": "78fb2cd7",
   "metadata": {},
   "outputs": [
    {
     "data": {
      "text/plain": [
       "{'name': 'John', 'age': 26, 'gender': 'Male'}"
      ]
     },
     "execution_count": 30,
     "metadata": {},
     "output_type": "execute_result"
    }
   ],
   "source": [
    "my_dict"
   ]
  },
  {
   "cell_type": "markdown",
   "id": "1cd45bfd",
   "metadata": {},
   "source": [
    "`popitem()`: Removes and returns the last inserted key-value pair."
   ]
  },
  {
   "cell_type": "code",
   "execution_count": 31,
   "id": "fe4445c6",
   "metadata": {},
   "outputs": [
    {
     "data": {
      "text/plain": [
       "('gender', 'Male')"
      ]
     },
     "execution_count": 31,
     "metadata": {},
     "output_type": "execute_result"
    }
   ],
   "source": [
    "removed_pair = my_dict.popitem()\n",
    "removed_pair"
   ]
  },
  {
   "cell_type": "code",
   "execution_count": 32,
   "id": "f55192fd",
   "metadata": {},
   "outputs": [
    {
     "data": {
      "text/plain": [
       "{'name': 'John', 'age': 26}"
      ]
     },
     "execution_count": 32,
     "metadata": {},
     "output_type": "execute_result"
    }
   ],
   "source": [
    "my_dict"
   ]
  },
  {
   "cell_type": "markdown",
   "id": "298e918d",
   "metadata": {},
   "source": [
    "`del`: Deletes the dictionary or a specific key."
   ]
  },
  {
   "cell_type": "code",
   "execution_count": 33,
   "id": "f7276f21",
   "metadata": {},
   "outputs": [],
   "source": [
    "del my_dict[\"age\"]"
   ]
  },
  {
   "cell_type": "markdown",
   "id": "d4bffae8",
   "metadata": {},
   "source": [
    "#### Other Operations:"
   ]
  },
  {
   "cell_type": "markdown",
   "id": "027c44db",
   "metadata": {},
   "source": [
    "`len()`: Returns the number of items in the dictionary."
   ]
  },
  {
   "cell_type": "code",
   "execution_count": 34,
   "id": "5ad2b9f1",
   "metadata": {},
   "outputs": [
    {
     "name": "stdout",
     "output_type": "stream",
     "text": [
      "{'name': 'John'}\n",
      "Length of Dictionary: 1\n"
     ]
    }
   ],
   "source": [
    "print(my_dict)\n",
    "num_items = len(my_dict)\n",
    "print('Length of Dictionary:', num_items)"
   ]
  },
  {
   "cell_type": "markdown",
   "id": "5920efed",
   "metadata": {},
   "source": [
    "`clear()`: Removes all items from the dictionary."
   ]
  },
  {
   "cell_type": "code",
   "execution_count": 35,
   "id": "98670cf0",
   "metadata": {},
   "outputs": [
    {
     "data": {
      "text/plain": [
       "{}"
      ]
     },
     "execution_count": 35,
     "metadata": {},
     "output_type": "execute_result"
    }
   ],
   "source": [
    "my_dict.clear()\n",
    "my_dict"
   ]
  },
  {
   "cell_type": "markdown",
   "id": "b0d4e186",
   "metadata": {},
   "source": [
    "## Playground - Exercises Done in Class"
   ]
  },
  {
   "cell_type": "code",
   "execution_count": 5,
   "id": "45cdc7a5",
   "metadata": {},
   "outputs": [
    {
     "data": {
      "text/plain": [
       "[1, 2, 'Hello', 4, 5, 29, 100]"
      ]
     },
     "execution_count": 5,
     "metadata": {},
     "output_type": "execute_result"
    }
   ],
   "source": [
    "original_tuple = (1, 2, \"Hello\", 4, 5, 29, 100)\n",
    "l1 = list(original_tuple)\n",
    "l1"
   ]
  },
  {
   "cell_type": "markdown",
   "id": "b3929c7a",
   "metadata": {},
   "source": [
    "#### Remove Elements from Tuple"
   ]
  },
  {
   "cell_type": "code",
   "execution_count": 7,
   "id": "3725c6c3",
   "metadata": {},
   "outputs": [],
   "source": [
    "original_tuple = (1, 2, \"Hello\", 4, 5, 29, 100)\n",
    "elements_to_remove = (2, 29)\n",
    "\n",
    "new_tuple=()\n",
    "for element in original_tuple:\n",
    "    if element not in elements_to_remove:\n",
    "        #.... do the rest"
   ]
  },
  {
   "cell_type": "code",
   "execution_count": 8,
   "id": "6d87246e",
   "metadata": {},
   "outputs": [
    {
     "data": {
      "text/plain": [
       "(1, 2, 'Hello', 4, 5, 29, 100, 56, 100)"
      ]
     },
     "execution_count": 8,
     "metadata": {},
     "output_type": "execute_result"
    }
   ],
   "source": [
    "tuple1 = (1, 2, \"Hello\", 4, 5, 29, 100)\n",
    "tuple2 = (56, 100)\n",
    "tuple1 = tuple1 + tuple2\n",
    "tuple1"
   ]
  },
  {
   "cell_type": "markdown",
   "id": "519c775a",
   "metadata": {},
   "source": [
    "#### Find the Unique Values"
   ]
  },
  {
   "cell_type": "code",
   "execution_count": 9,
   "id": "5ee2ce72",
   "metadata": {},
   "outputs": [
    {
     "name": "stdout",
     "output_type": "stream",
     "text": [
      "[1, 2, 'Hello', 4, 5, 29, 100]\n"
     ]
    }
   ],
   "source": [
    "list1 = (1, 2, 2, \"Hello\", 4, 5, 29, 100)\n",
    "unique = []\n",
    "for i in list1:\n",
    "    if i not in unique:\n",
    "        unique.append(i)\n",
    "print(unique)"
   ]
  },
  {
   "cell_type": "code",
   "execution_count": null,
   "id": "961f26ac",
   "metadata": {},
   "outputs": [],
   "source": []
  }
 ],
 "metadata": {
  "kernelspec": {
   "display_name": "Python 3",
   "language": "python",
   "name": "python3"
  },
  "language_info": {
   "codemirror_mode": {
    "name": "ipython",
    "version": 3
   },
   "file_extension": ".py",
   "mimetype": "text/x-python",
   "name": "python",
   "nbconvert_exporter": "python",
   "pygments_lexer": "ipython3",
   "version": "3.10.5"
  }
 },
 "nbformat": 4,
 "nbformat_minor": 5
}
